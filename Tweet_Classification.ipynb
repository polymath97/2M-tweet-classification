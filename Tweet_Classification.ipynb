{
  "cells": [
    {
      "cell_type": "markdown",
      "source": [
        "https://www.kaggle.com/datasets/prkhrawsthi/twitter-sentiment-dataset-3-million-labelled-rows"
      ],
      "metadata": {
        "id": "UQEW7O1SkuKt"
      }
    },
    {
      "cell_type": "markdown",
      "metadata": {
        "id": "zZcN7uiYkFRF"
      },
      "source": [
        "# SEMANTIC CATEGORIZATION\n",
        "\n",
        "rather than assigning rank to different text which has narrow scope of implementation, categorization has a much wider application like extracting meaning, intent, category, main information, etc. In terms of texts, our interest is to group more than to quantify it"
      ]
    },
    {
      "cell_type": "code",
      "execution_count": null,
      "metadata": {
        "id": "ZNqtlky0EauM"
      },
      "outputs": [],
      "source": [
        "import pandas as pd\n",
        "import numpy as np\n",
        "import tensorflow as tf\n",
        "from tensorflow import keras\n",
        "from tensorflow.keras import layers\n",
        "from tensorflow.keras.preprocessing.text import Tokenizer\n",
        "import re\n",
        "from sklearn.metrics import classification_report, f1_score, ConfusionMatrixDisplay, confusion_matrix\n",
        "import matplotlib.pyplot as plt\n",
        "from sklearn.model_selection import train_test_split"
      ]
    },
    {
      "cell_type": "code",
      "execution_count": null,
      "metadata": {
        "colab": {
          "base_uri": "https://localhost:8080/"
        },
        "id": "JAPfcM8YCmjc",
        "outputId": "ecbee0ae-5717-4e8c-e52a-cbc57232def1"
      },
      "outputs": [
        {
          "output_type": "stream",
          "name": "stdout",
          "text": [
            "Drive already mounted at /content/drive; to attempt to forcibly remount, call drive.mount(\"/content/drive\", force_remount=True).\n"
          ]
        }
      ],
      "source": [
        "from google.colab import drive\n",
        "drive.mount('/content/drive')"
      ]
    },
    {
      "cell_type": "code",
      "execution_count": null,
      "metadata": {
        "id": "bQC7dnb6CsDp"
      },
      "outputs": [],
      "source": [
        "df_original = pd.read_csv('/content/drive/MyDrive/# DATA SCIENCE/my project/NLP/twitter_dataset.csv')\n",
        "df = df_original.copy()"
      ]
    },
    {
      "cell_type": "markdown",
      "metadata": {
        "id": "6GaBjYPzElxt"
      },
      "source": [
        "# EDA"
      ]
    },
    {
      "cell_type": "code",
      "execution_count": null,
      "metadata": {
        "colab": {
          "base_uri": "https://localhost:8080/"
        },
        "id": "NlHRtwuaE4GT",
        "outputId": "55586d3b-86df-4c35-cc85-ba1b8fcc87b5"
      },
      "outputs": [
        {
          "output_type": "stream",
          "name": "stdout",
          "text": [
            "<class 'pandas.core.frame.DataFrame'>\n",
            "RangeIndex: 3142403 entries, 0 to 3142402\n",
            "Data columns (total 3 columns):\n",
            " #   Column      Dtype  \n",
            "---  ------      -----  \n",
            " 0   Unnamed: 0  int64  \n",
            " 1   tweet       object \n",
            " 2   sentiment   float64\n",
            "dtypes: float64(1), int64(1), object(1)\n",
            "memory usage: 71.9+ MB\n"
          ]
        }
      ],
      "source": [
        "df.info()"
      ]
    },
    {
      "cell_type": "code",
      "source": [
        "df['sentiment'].unique()"
      ],
      "metadata": {
        "colab": {
          "base_uri": "https://localhost:8080/"
        },
        "id": "eESGo_rVhgcV",
        "outputId": "45d5c28f-1d9e-422a-efdc-4a7667c645a4"
      },
      "execution_count": null,
      "outputs": [
        {
          "output_type": "execute_result",
          "data": {
            "text/plain": [
              "array([ 0.,  1.,  2., nan])"
            ]
          },
          "metadata": {},
          "execution_count": 5
        }
      ]
    },
    {
      "cell_type": "code",
      "source": [
        "df.duplicated().sum()"
      ],
      "metadata": {
        "colab": {
          "base_uri": "https://localhost:8080/"
        },
        "id": "ucYJJ-6hh_qG",
        "outputId": "c641a1ef-03ed-4a0c-8228-98ca6f358758"
      },
      "execution_count": null,
      "outputs": [
        {
          "output_type": "execute_result",
          "data": {
            "text/plain": [
              "0"
            ]
          },
          "metadata": {},
          "execution_count": 6
        }
      ]
    },
    {
      "cell_type": "code",
      "source": [
        "df.isna().sum()"
      ],
      "metadata": {
        "colab": {
          "base_uri": "https://localhost:8080/"
        },
        "id": "Hn24I0rChitB",
        "outputId": "1164b2fd-7b53-4a6c-b96a-bf2d1c7f8a19"
      },
      "execution_count": null,
      "outputs": [
        {
          "output_type": "execute_result",
          "data": {
            "text/plain": [
              "Unnamed: 0     0\n",
              "tweet          0\n",
              "sentiment     82\n",
              "dtype: int64"
            ]
          },
          "metadata": {},
          "execution_count": 7
        }
      ]
    },
    {
      "cell_type": "code",
      "execution_count": null,
      "metadata": {
        "colab": {
          "base_uri": "https://localhost:8080/",
          "height": 473
        },
        "id": "AiRJH7fOGcAJ",
        "outputId": "1cd5fe3f-ff6d-4687-b73f-c31d84c232c6"
      },
      "outputs": [
        {
          "output_type": "execute_result",
          "data": {
            "text/plain": [
              "<Axes: >"
            ]
          },
          "metadata": {},
          "execution_count": 8
        },
        {
          "output_type": "display_data",
          "data": {
            "text/plain": [
              "<Figure size 640x480 with 1 Axes>"
            ],
            "image/png": "[encoded data removed]"
          },
          "metadata": {}
        }
      ],
      "source": [
        "df['sentiment'].value_counts().plot(kind='bar')"
      ]
    },
    {
      "cell_type": "code",
      "execution_count": null,
      "metadata": {
        "id": "iTDPT7jeHGFN",
        "colab": {
          "base_uri": "https://localhost:8080/"
        },
        "outputId": "dc3a3616-a192-4cc7-bfc5-70e973e573c1"
      },
      "outputs": [
        {
          "output_type": "execute_result",
          "data": {
            "text/plain": [
              "0.0    1570067\n",
              "1.0    1561529\n",
              "2.0      10725\n",
              "Name: sentiment, dtype: int64"
            ]
          },
          "metadata": {},
          "execution_count": 9
        }
      ],
      "source": [
        "df['sentiment'].value_counts()"
      ]
    },
    {
      "cell_type": "code",
      "source": [
        "df.sample(5)"
      ],
      "metadata": {
        "colab": {
          "base_uri": "https://localhost:8080/",
          "height": 221
        },
        "id": "P9UdNbAjhzqC",
        "outputId": "4f8e5a2c-8c57-43b4-df95-f19941bcc99d"
      },
      "execution_count": null,
      "outputs": [
        {
          "output_type": "execute_result",
          "data": {
            "text/plain": [
              "         Unnamed: 0                                              tweet  \\\n",
              "1270066     1270066  @MazaNajle Nonverbal communication, platonic a...   \n",
              "11493         11493  So I didn't go Jogging (yet) Got caught up mak...   \n",
              "2985978     2985978  awww tru confessions makes me love shia even more   \n",
              "838205       838205  Gotta go rescue @dynila from my child... poor ...   \n",
              "530278       530278                             toothache ! uhhh gosh    \n",
              "\n",
              "         sentiment  \n",
              "1270066        1.0  \n",
              "11493          0.0  \n",
              "2985978        1.0  \n",
              "838205         1.0  \n",
              "530278         0.0  "
            ],
            "text/html": [
              "\n",
              "  <div id=\"df-1d2d5686-1644-4a91-b19b-d209bd62b9d4\" class=\"colab-df-container\">\n",
              "    <div>\n",
              "<style scoped>\n",
              "    .dataframe tbody tr th:only-of-type {\n",
              "        vertical-align: middle;\n",
              "    }\n",
              "\n",
              "    .dataframe tbody tr th {\n",
              "        vertical-align: top;\n",
              "    }\n",
              "\n",
              "    .dataframe thead th {\n",
              "        text-align: right;\n",
              "    }\n",
              "</style>\n",
              "<table border=\"1\" class=\"dataframe\">\n",
              "  <thead>\n",
              "    <tr style=\"text-align: right;\">\n",
              "      <th></th>\n",
              "      <th>Unnamed: 0</th>\n",
              "      <th>tweet</th>\n",
              "      <th>sentiment</th>\n",
              "    </tr>\n",
              "  </thead>\n",
              "  <tbody>\n",
              "    <tr>\n",
              "      <th>1270066</th>\n",
              "      <td>1270066</td>\n",
              "      <td>@MazaNajle Nonverbal communication, platonic a...</td>\n",
              "      <td>1.0</td>\n",
              "    </tr>\n",
              "    <tr>\n",
              "      <th>11493</th>\n",
              "      <td>11493</td>\n",
              "      <td>So I didn't go Jogging (yet) Got caught up mak...</td>\n",
              "      <td>0.0</td>\n",
              "    </tr>\n",
              "    <tr>\n",
              "      <th>2985978</th>\n",
              "      <td>2985978</td>\n",
              "      <td>awww tru confessions makes me love shia even more</td>\n",
              "      <td>1.0</td>\n",
              "    </tr>\n",
              "    <tr>\n",
              "      <th>838205</th>\n",
              "      <td>838205</td>\n",
              "      <td>Gotta go rescue @dynila from my child... poor ...</td>\n",
              "      <td>1.0</td>\n",
              "    </tr>\n",
              "    <tr>\n",
              "      <th>530278</th>\n",
              "      <td>530278</td>\n",
              "      <td>toothache ! uhhh gosh</td>\n",
              "      <td>0.0</td>\n",
              "    </tr>\n",
              "  </tbody>\n",
              "</table>\n",
              "</div>\n",
              "    <div class=\"colab-df-buttons\">\n",
              "\n",
              "  <div class=\"colab-df-container\">\n",
              "    <button class=\"colab-df-convert\" onclick=\"convertToInteractive('df-1d2d5686-1644-4a91-b19b-d209bd62b9d4')\"\n",
              "            title=\"Convert this dataframe to an interactive table.\"\n",
              "            style=\"display:none;\">\n",
              "\n",
              "  <svg xmlns=\"http://www.w3.org/2000/svg\" height=\"24px\" viewBox=\"0 -960 960 960\">\n",
              "    <path d=\"M120-120v-720h720v720H120Zm60-500h600v-160H180v160Zm220 220h160v-160H400v160Zm0 220h160v-160H400v160ZM180-400h160v-160H180v160Zm440 0h160v-160H620v160ZM180-180h160v-160H180v160Zm440 0h160v-160H620v160Z\"/>\n",
              "  </svg>\n",
              "    </button>\n",
              "\n",
              "  <style>\n",
              "    .colab-df-container {\n",
              "      display:flex;\n",
              "      gap: 12px;\n",
              "    }\n",
              "\n",
              "    .colab-df-convert {\n",
              "      background-color: #E8F0FE;\n",
              "      border: none;\n",
              "      border-radius: 50%;\n",
              "      cursor: pointer;\n",
              "      display: none;\n",
              "      fill: #1967D2;\n",
              "      height: 32px;\n",
              "      padding: 0 0 0 0;\n",
              "      width: 32px;\n",
              "    }\n",
              "\n",
              "    .colab-df-convert:hover {\n",
              "      background-color: #E2EBFA;\n",
              "      box-shadow: 0px 1px 2px rgba(60, 64, 67, 0.3), 0px 1px 3px 1px rgba(60, 64, 67, 0.15);\n",
              "      fill: #174EA6;\n",
              "    }\n",
              "\n",
              "    .colab-df-buttons div {\n",
              "      margin-bottom: 4px;\n",
              "    }\n",
              "\n",
              "    [theme=dark] .colab-df-convert {\n",
              "      background-color: #3B4455;\n",
              "      fill: #D2E3FC;\n",
              "    }\n",
              "\n",
              "    [theme=dark] .colab-df-convert:hover {\n",
              "      background-color: #434B5C;\n",
              "      box-shadow: 0px 1px 3px 1px rgba(0, 0, 0, 0.15);\n",
              "      filter: drop-shadow(0px 1px 2px rgba(0, 0, 0, 0.3));\n",
              "      fill: #FFFFFF;\n",
              "    }\n",
              "  </style>\n",
              "\n",
              "    <script>\n",
              "      const buttonEl =\n",
              "        document.querySelector('#df-1d2d5686-1644-4a91-b19b-d209bd62b9d4 button.colab-df-convert');\n",
              "      buttonEl.style.display =\n",
              "        google.colab.kernel.accessAllowed ? 'block' : 'none';\n",
              "\n",
              "      async function convertToInteractive(key) {\n",
              "        const element = document.querySelector('#df-1d2d5686-1644-4a91-b19b-d209bd62b9d4');\n",
              "        const dataTable =\n",
              "          await google.colab.kernel.invokeFunction('convertToInteractive',\n",
              "                                                    [key], {});\n",
              "        if (!dataTable) return;\n",
              "\n",
              "        const docLinkHtml = 'Like what you see? Visit the ' +\n",
              "          '<a target=\"_blank\" href=https://colab.research.google.com/notebooks/data_table.ipynb>data table notebook</a>'\n",
              "          + ' to learn more about interactive tables.';\n",
              "        element.innerHTML = '';\n",
              "        dataTable['output_type'] = 'display_data';\n",
              "        await google.colab.output.renderOutput(dataTable, element);\n",
              "        const docLink = document.createElement('div');\n",
              "        docLink.innerHTML = docLinkHtml;\n",
              "        element.appendChild(docLink);\n",
              "      }\n",
              "    </script>\n",
              "  </div>\n",
              "\n",
              "\n",
              "<div id=\"df-1edfc17e-535b-44e0-a9b1-7b3be5c08a34\">\n",
              "  <button class=\"colab-df-quickchart\" onclick=\"quickchart('df-1edfc17e-535b-44e0-a9b1-7b3be5c08a34')\"\n",
              "            title=\"Suggest charts\"\n",
              "            style=\"display:none;\">\n",
              "\n",
              "<svg xmlns=\"http://www.w3.org/2000/svg\" height=\"24px\"viewBox=\"0 0 24 24\"\n",
              "     width=\"24px\">\n",
              "    <g>\n",
              "        <path d=\"M19 3H5c-1.1 0-2 .9-2 2v14c0 1.1.9 2 2 2h14c1.1 0 2-.9 2-2V5c0-1.1-.9-2-2-2zM9 17H7v-7h2v7zm4 0h-2V7h2v10zm4 0h-2v-4h2v4z\"/>\n",
              "    </g>\n",
              "</svg>\n",
              "  </button>\n",
              "\n",
              "<style>\n",
              "  .colab-df-quickchart {\n",
              "      --bg-color: #E8F0FE;\n",
              "      --fill-color: #1967D2;\n",
              "      --hover-bg-color: #E2EBFA;\n",
              "      --hover-fill-color: #174EA6;\n",
              "      --disabled-fill-color: #AAA;\n",
              "      --disabled-bg-color: #DDD;\n",
              "  }\n",
              "\n",
              "  [theme=dark] .colab-df-quickchart {\n",
              "      --bg-color: #3B4455;\n",
              "      --fill-color: #D2E3FC;\n",
              "      --hover-bg-color: #434B5C;\n",
              "      --hover-fill-color: #FFFFFF;\n",
              "      --disabled-bg-color: #3B4455;\n",
              "      --disabled-fill-color: #666;\n",
              "  }\n",
              "\n",
              "  .colab-df-quickchart {\n",
              "    background-color: var(--bg-color);\n",
              "    border: none;\n",
              "    border-radius: 50%;\n",
              "    cursor: pointer;\n",
              "    display: none;\n",
              "    fill: var(--fill-color);\n",
              "    height: 32px;\n",
              "    padding: 0;\n",
              "    width: 32px;\n",
              "  }\n",
              "\n",
              "  .colab-df-quickchart:hover {\n",
              "    background-color: var(--hover-bg-color);\n",
              "    box-shadow: 0 1px 2px rgba(60, 64, 67, 0.3), 0 1px 3px 1px rgba(60, 64, 67, 0.15);\n",
              "    fill: var(--button-hover-fill-color);\n",
              "  }\n",
              "\n",
              "  .colab-df-quickchart-complete:disabled,\n",
              "  .colab-df-quickchart-complete:disabled:hover {\n",
              "    background-color: var(--disabled-bg-color);\n",
              "    fill: var(--disabled-fill-color);\n",
              "    box-shadow: none;\n",
              "  }\n",
              "\n",
              "  .colab-df-spinner {\n",
              "    border: 2px solid var(--fill-color);\n",
              "    border-color: transparent;\n",
              "    border-bottom-color: var(--fill-color);\n",
              "    animation:\n",
              "      spin 1s steps(1) infinite;\n",
              "  }\n",
              "\n",
              "  @keyframes spin {\n",
              "    0% {\n",
              "      border-color: transparent;\n",
              "      border-bottom-color: var(--fill-color);\n",
              "      border-left-color: var(--fill-color);\n",
              "    }\n",
              "    20% {\n",
              "      border-color: transparent;\n",
              "      border-left-color: var(--fill-color);\n",
              "      border-top-color: var(--fill-color);\n",
              "    }\n",
              "    30% {\n",
              "      border-color: transparent;\n",
              "      border-left-color: var(--fill-color);\n",
              "      border-top-color: var(--fill-color);\n",
              "      border-right-color: var(--fill-color);\n",
              "    }\n",
              "    40% {\n",
              "      border-color: transparent;\n",
              "      border-right-color: var(--fill-color);\n",
              "      border-top-color: var(--fill-color);\n",
              "    }\n",
              "    60% {\n",
              "      border-color: transparent;\n",
              "      border-right-color: var(--fill-color);\n",
              "    }\n",
              "    80% {\n",
              "      border-color: transparent;\n",
              "      border-right-color: var(--fill-color);\n",
              "      border-bottom-color: var(--fill-color);\n",
              "    }\n",
              "    90% {\n",
              "      border-color: transparent;\n",
              "      border-bottom-color: var(--fill-color);\n",
              "    }\n",
              "  }\n",
              "</style>\n",
              "\n",
              "  <script>\n",
              "    async function quickchart(key) {\n",
              "      const quickchartButtonEl =\n",
              "        document.querySelector('#' + key + ' button');\n",
              "      quickchartButtonEl.disabled = true;  // To prevent multiple clicks.\n",
              "      quickchartButtonEl.classList.add('colab-df-spinner');\n",
              "      try {\n",
              "        const charts = await google.colab.kernel.invokeFunction(\n",
              "            'suggestCharts', [key], {});\n",
              "      } catch (error) {\n",
              "        console.error('Error during call to suggestCharts:', error);\n",
              "      }\n",
              "      quickchartButtonEl.classList.remove('colab-df-spinner');\n",
              "      quickchartButtonEl.classList.add('colab-df-quickchart-complete');\n",
              "    }\n",
              "    (() => {\n",
              "      let quickchartButtonEl =\n",
              "        document.querySelector('#df-1edfc17e-535b-44e0-a9b1-7b3be5c08a34 button');\n",
              "      quickchartButtonEl.style.display =\n",
              "        google.colab.kernel.accessAllowed ? 'block' : 'none';\n",
              "    })();\n",
              "  </script>\n",
              "</div>\n",
              "    </div>\n",
              "  </div>\n"
            ]
          },
          "metadata": {},
          "execution_count": 10
        }
      ]
    },
    {
      "cell_type": "markdown",
      "metadata": {
        "id": "sk4xS3azGUjf"
      },
      "source": [
        "# DATA PREPROCESSING"
      ]
    },
    {
      "cell_type": "code",
      "source": [
        "df.drop(['Unnamed: 0'], axis=1, inplace=True)"
      ],
      "metadata": {
        "id": "jKrwQW2hkIk9"
      },
      "execution_count": null,
      "outputs": []
    },
    {
      "cell_type": "code",
      "execution_count": null,
      "metadata": {
        "id": "KoZEezxb5w9d"
      },
      "outputs": [],
      "source": [
        "df.dropna(inplace=True)"
      ]
    },
    {
      "cell_type": "code",
      "source": [
        "df = df.sample(frac=1)\n",
        "\n",
        "# Remove 500k row of sentiment 0 and 500k row of sentiment 1\n",
        "df = df.groupby('sentiment').apply(lambda x: x.iloc[:-500000] if len(x) > 500000 else x)"
      ],
      "metadata": {
        "id": "dkz0AgnEiOyt"
      },
      "execution_count": null,
      "outputs": []
    },
    {
      "cell_type": "code",
      "source": [
        "df['sentiment'].value_counts()"
      ],
      "metadata": {
        "colab": {
          "base_uri": "https://localhost:8080/"
        },
        "id": "LAcFxw2hj-W3",
        "outputId": "8dc51482-d0d6-40a5-c059-174013914464"
      },
      "execution_count": null,
      "outputs": [
        {
          "output_type": "execute_result",
          "data": {
            "text/plain": [
              "0.0    1070067\n",
              "1.0    1061529\n",
              "2.0      10725\n",
              "Name: sentiment, dtype: int64"
            ]
          },
          "metadata": {},
          "execution_count": 14
        }
      ]
    },
    {
      "cell_type": "code",
      "source": [
        "df.shape"
      ],
      "metadata": {
        "colab": {
          "base_uri": "https://localhost:8080/"
        },
        "id": "lhQtSp_7kFKN",
        "outputId": "eec60707-3488-48ae-ac4e-9cf0a433fbd4"
      },
      "execution_count": null,
      "outputs": [
        {
          "output_type": "execute_result",
          "data": {
            "text/plain": [
              "(2142321, 2)"
            ]
          },
          "metadata": {},
          "execution_count": 15
        }
      ]
    },
    {
      "cell_type": "markdown",
      "source": [
        "### < split train, val, test >"
      ],
      "metadata": {
        "id": "8Y-oWytNiQfb"
      }
    },
    {
      "cell_type": "code",
      "source": [
        "X = df['tweet']\n",
        "Y = df['sentiment']"
      ],
      "metadata": {
        "id": "MtKV-XuokaV1"
      },
      "execution_count": null,
      "outputs": []
    },
    {
      "cell_type": "code",
      "source": [
        "# 80% train, 10% validation, 10% test\n",
        "X_train, X_temp, Y_train, Y_temp = train_test_split(X, Y, test_size=0.2, random_state=33)\n",
        "\n",
        "# Split the temporary data into validation (50%) and test (50%)\n",
        "X_val, X_test, Y_val, Y_test = train_test_split(X_temp, Y_temp, test_size=0.5, random_state=33)"
      ],
      "metadata": {
        "id": "IHfPKLs7iP8w"
      },
      "execution_count": null,
      "outputs": []
    },
    {
      "cell_type": "markdown",
      "metadata": {
        "id": "ESSmptqh3ZrH"
      },
      "source": [
        "### < remove special characters >"
      ]
    },
    {
      "cell_type": "code",
      "execution_count": null,
      "metadata": {
        "id": "Q_Rj6ZRG3cv8"
      },
      "outputs": [],
      "source": [
        "p = re.compile(r'[^a-zA-Z0-9\\s]')\n",
        "\n",
        "X_train = [p.sub('', x) for x in X_train]"
      ]
    },
    {
      "cell_type": "code",
      "execution_count": null,
      "metadata": {
        "id": "43HHRRMH6REM"
      },
      "outputs": [],
      "source": [
        "X_train = pd.Series(X_train, name='Text')"
      ]
    },
    {
      "cell_type": "markdown",
      "metadata": {
        "id": "_oCj8F9_KbFU"
      },
      "source": [
        "### < convert all word to lowercase >"
      ]
    },
    {
      "cell_type": "code",
      "execution_count": null,
      "metadata": {
        "id": "yEnbe1ZGKhvi"
      },
      "outputs": [],
      "source": [
        "# larger vocab size without conversion\n",
        "X_train = X_train.str.lower()"
      ]
    },
    {
      "cell_type": "markdown",
      "metadata": {
        "id": "tWTMYb9k33hD"
      },
      "source": [
        "### < tokenize the texts >"
      ]
    },
    {
      "cell_type": "code",
      "execution_count": null,
      "metadata": {
        "colab": {
          "base_uri": "https://localhost:8080/"
        },
        "id": "rBgbvaxE8Shk",
        "outputId": "6b739da3-151e-40df-9f99-b0612e13d83e"
      },
      "outputs": [
        {
          "output_type": "stream",
          "name": "stdout",
          "text": [
            "Total words in the Series: 22673501\n",
            "longest word count in the Series: 58\n"
          ]
        }
      ],
      "source": [
        "total_words = X_train.str.split().apply(len).sum()\n",
        "longest_words = max(X_train.str.split().apply(len))\n",
        "print(\"Total words in the Series:\", total_words)\n",
        "print(\"longest word count in the Series:\", longest_words)"
      ]
    },
    {
      "cell_type": "code",
      "execution_count": null,
      "metadata": {
        "id": "sfW-M9jyCfs1"
      },
      "outputs": [],
      "source": [
        "tokenizer = Tokenizer(oov_token=\"<UKN>\")\n",
        "tokenizer.fit_on_texts(X_train)\n",
        "\n",
        "X_train = tokenizer.texts_to_sequences(X_train)"
      ]
    },
    {
      "cell_type": "code",
      "execution_count": null,
      "metadata": {
        "colab": {
          "base_uri": "https://localhost:8080/"
        },
        "id": "J_C0vriDY29m",
        "outputId": "7ce11540-4e82-44cb-8ef8-36558cfa44ec"
      },
      "outputs": [
        {
          "output_type": "stream",
          "name": "stdout",
          "text": [
            "Vocabulary Size: 613623\n"
          ]
        }
      ],
      "source": [
        "word_index = tokenizer.word_index\n",
        "\n",
        "# Get the unique tokens and their count\n",
        "unique_tokens = list(word_index.keys())\n",
        "vocab_size = len(unique_tokens)\n",
        "\n",
        "# Print the vocabulary size\n",
        "print(\"Vocabulary Size:\", vocab_size)"
      ]
    },
    {
      "cell_type": "markdown",
      "metadata": {
        "id": "TZ346X_3DQyJ"
      },
      "source": [
        "### < padding the sentences with keras pad_sequences>"
      ]
    },
    {
      "cell_type": "code",
      "execution_count": null,
      "metadata": {
        "id": "9JkbINfZ0Hk-"
      },
      "outputs": [],
      "source": [
        "maxlen = 50  # arbitrary setting the max len to be 50"
      ]
    },
    {
      "cell_type": "code",
      "execution_count": null,
      "metadata": {
        "id": "zFNsBsiL1Et7"
      },
      "outputs": [],
      "source": [
        "X_train = keras.utils.pad_sequences(X_train, maxlen=maxlen)"
      ]
    },
    {
      "cell_type": "code",
      "execution_count": null,
      "metadata": {
        "colab": {
          "base_uri": "https://localhost:8080/"
        },
        "id": "04QdUJEaB0j6",
        "outputId": "8a48fa11-ebda-4b21-ccfc-ad3199293873"
      },
      "outputs": [
        {
          "output_type": "execute_result",
          "data": {
            "text/plain": [
              "(4, 50)"
            ]
          },
          "metadata": {},
          "execution_count": 26
        }
      ],
      "source": [
        "X_train[1:5].shape"
      ]
    },
    {
      "cell_type": "markdown",
      "metadata": {
        "id": "V_A0LUy4wb_C"
      },
      "source": [
        "# MODEL DEFINITION"
      ]
    },
    {
      "cell_type": "code",
      "execution_count": null,
      "metadata": {
        "id": "rCsIoHZCwe5S"
      },
      "outputs": [],
      "source": [
        "# transformer block has 2 main component, the encoder and decoder attention\n",
        "class TransformerBlock(layers.Layer):\n",
        "    def __init__(self, embed_dim, num_heads, ff_dim, rate=0.1):\n",
        "        super().__init__()\n",
        "        self.att = layers.MultiHeadAttention(num_heads=num_heads, key_dim=embed_dim)\n",
        "        self.ffn = keras.Sequential(\n",
        "            [layers.Dense(ff_dim, activation=\"relu\"), layers.Dense(embed_dim),]\n",
        "        )\n",
        "        self.layernorm1 = layers.LayerNormalization(epsilon=1e-6)\n",
        "        self.layernorm2 = layers.LayerNormalization(epsilon=1e-6)\n",
        "        self.dropout1 = layers.Dropout(rate)\n",
        "        self.dropout2 = layers.Dropout(rate)\n",
        "\n",
        "    def call(self, inputs, training):\n",
        "        attn_output = self.att(inputs, inputs)\n",
        "        attn_output = self.dropout1(attn_output, training=training)\n",
        "        out1 = self.layernorm1(inputs + attn_output)\n",
        "        ffn_output = self.ffn(out1)\n",
        "        ffn_output = self.dropout2(ffn_output, training=training)\n",
        "        return self.layernorm2(out1 + ffn_output)"
      ]
    },
    {
      "cell_type": "code",
      "execution_count": null,
      "metadata": {
        "id": "ITGfdPnfwf7a"
      },
      "outputs": [],
      "source": [
        "class TokenAndPositionEmbedding(layers.Layer):\n",
        "    def __init__(self, maxlen, vocab_size, embed_dim):\n",
        "        super().__init__()\n",
        "        self.token_emb = layers.Embedding(input_dim=vocab_size, output_dim=embed_dim)\n",
        "        self.pos_emb = layers.Embedding(input_dim=maxlen, output_dim=embed_dim)\n",
        "\n",
        "    def call(self, x):\n",
        "        maxlen = tf.shape(x)[-1]\n",
        "        positions = tf.range(start=0, limit=maxlen, delta=1)\n",
        "        positions = self.pos_emb(positions)\n",
        "        x = self.token_emb(x)\n",
        "        return x + positions"
      ]
    },
    {
      "cell_type": "code",
      "execution_count": null,
      "metadata": {
        "id": "-sTnb42Ywph8"
      },
      "outputs": [],
      "source": [
        "vocab_size = 614638 + 1 # tot unique token include 1 for oov\n",
        "embed_dim = 32  # embedding size for each token\n",
        "num_heads = 2  # amount of attention heads\n",
        "ff_dim = 32  # hidden layer size in feed forward network inside transformer\n",
        "\n",
        "inputs = layers.Input(shape=(maxlen,)) # input is a 1d tensor with 200 element\n",
        "embedding_layer = TokenAndPositionEmbedding(maxlen, vocab_size, embed_dim)\n",
        "x = embedding_layer(inputs)\n",
        "transformer_block = TransformerBlock(embed_dim, num_heads, ff_dim)\n",
        "x = transformer_block(x)\n",
        "x = layers.GlobalAveragePooling1D()(x)\n",
        "x = layers.Dense(124, activation=\"relu\")(x)\n",
        "x = layers.Dropout(0.1)(x)\n",
        "x = layers.Dense(124, activation=\"relu\")(x)\n",
        "x = layers.Dropout(0.1)(x)\n",
        "x = layers.Dense(124, activation=\"relu\")(x)\n",
        "x = layers.Dropout(0.1)(x)\n",
        "x = layers.Dense(124, activation=\"relu\")(x)\n",
        "x = layers.Dropout(0.1)(x)\n",
        "x = layers.Dense(124, activation=\"relu\")(x)\n",
        "x = layers.Dropout(0.1)(x)\n",
        "x = layers.Dense(124, activation=\"relu\")(x)\n",
        "x = layers.Dropout(0.1)(x)\n",
        "x = layers.Dense(124, activation=\"relu\")(x)\n",
        "x = layers.Dropout(0.1)(x)\n",
        "x = layers.Dense(124, activation=\"relu\")(x)\n",
        "x = layers.Dropout(0.1)(x)\n",
        "outputs = layers.Dense(3, activation=\"softmax\")(x)\n",
        "\n",
        "model = keras.Model(inputs=inputs, outputs=outputs)"
      ]
    },
    {
      "cell_type": "code",
      "source": [
        "model.summary()"
      ],
      "metadata": {
        "colab": {
          "base_uri": "https://localhost:8080/"
        },
        "id": "bqJUfOeAqnZn",
        "outputId": "c4ddbc83-317c-491e-e5f5-f6b613abdd4d"
      },
      "execution_count": null,
      "outputs": [
        {
          "output_type": "stream",
          "name": "stdout",
          "text": [
            "Model: \"model\"\n",
            "_________________________________________________________________\n",
            " Layer (type)                Output Shape              Param #   \n",
            "=================================================================\n",
            " input_1 (InputLayer)        [(None, 50)]              0         \n",
            "                                                                 \n",
            " token_and_position_embeddi  (None, 50, 32)            19670048  \n",
            " ng (TokenAndPositionEmbedd                                      \n",
            " ing)                                                            \n",
            "                                                                 \n",
            " transformer_block (Transfo  (None, 50, 32)            10656     \n",
            " rmerBlock)                                                      \n",
            "                                                                 \n",
            " global_average_pooling1d (  (None, 32)                0         \n",
            " GlobalAveragePooling1D)                                         \n",
            "                                                                 \n",
            " dense_2 (Dense)             (None, 124)               4092      \n",
            "                                                                 \n",
            " dropout_2 (Dropout)         (None, 124)               0         \n",
            "                                                                 \n",
            " dense_3 (Dense)             (None, 124)               15500     \n",
            "                                                                 \n",
            " dropout_3 (Dropout)         (None, 124)               0         \n",
            "                                                                 \n",
            " dense_4 (Dense)             (None, 124)               15500     \n",
            "                                                                 \n",
            " dropout_4 (Dropout)         (None, 124)               0         \n",
            "                                                                 \n",
            " dense_5 (Dense)             (None, 124)               15500     \n",
            "                                                                 \n",
            " dropout_5 (Dropout)         (None, 124)               0         \n",
            "                                                                 \n",
            " dense_6 (Dense)             (None, 124)               15500     \n",
            "                                                                 \n",
            " dropout_6 (Dropout)         (None, 124)               0         \n",
            "                                                                 \n",
            " dense_7 (Dense)             (None, 124)               15500     \n",
            "                                                                 \n",
            " dropout_7 (Dropout)         (None, 124)               0         \n",
            "                                                                 \n",
            " dense_8 (Dense)             (None, 124)               15500     \n",
            "                                                                 \n",
            " dropout_8 (Dropout)         (None, 124)               0         \n",
            "                                                                 \n",
            " dense_9 (Dense)             (None, 124)               15500     \n",
            "                                                                 \n",
            " dropout_9 (Dropout)         (None, 124)               0         \n",
            "                                                                 \n",
            " dense_10 (Dense)            (None, 3)                 375       \n",
            "                                                                 \n",
            "=================================================================\n",
            "Total params: 19793671 (75.51 MB)\n",
            "Trainable params: 19793671 (75.51 MB)\n",
            "Non-trainable params: 0 (0.00 Byte)\n",
            "_________________________________________________________________\n"
          ]
        }
      ]
    },
    {
      "cell_type": "code",
      "execution_count": null,
      "metadata": {
        "id": "ABFSfoDn0hs9"
      },
      "outputs": [],
      "source": [
        "model.compile(optimizer=\"adam\", loss=\"sparse_categorical_crossentropy\", metrics=[\"accuracy\"])"
      ]
    },
    {
      "cell_type": "markdown",
      "metadata": {
        "id": "_aPruIqowmR1"
      },
      "source": [
        "# MODEL TRAINING"
      ]
    },
    {
      "cell_type": "code",
      "execution_count": null,
      "metadata": {
        "colab": {
          "base_uri": "https://localhost:8080/"
        },
        "id": "AjfyXxikw7gC",
        "outputId": "72a01454-ad9a-41cf-d02e-3197d2dbc05e"
      },
      "outputs": [
        {
          "output_type": "stream",
          "name": "stdout",
          "text": [
            "Epoch 1/8\n",
            "10712/10712 [==============================] - 243s 22ms/step - loss: 0.4544 - accuracy: 0.7880 - val_loss: 0.4205 - val_accuracy: 0.8092\n",
            "Epoch 2/8\n",
            "10712/10712 [==============================] - 198s 18ms/step - loss: 0.3489 - accuracy: 0.8502 - val_loss: 0.4591 - val_accuracy: 0.7906\n",
            "Epoch 3/8\n",
            "10712/10712 [==============================] - 187s 18ms/step - loss: 0.2924 - accuracy: 0.8765 - val_loss: 0.4835 - val_accuracy: 0.7895\n",
            "Epoch 4/8\n",
            "10712/10712 [==============================] - 189s 18ms/step - loss: 0.2651 - accuracy: 0.8868 - val_loss: 0.4579 - val_accuracy: 0.8086\n",
            "Epoch 5/8\n",
            "10712/10712 [==============================] - 198s 18ms/step - loss: 0.2493 - accuracy: 0.8933 - val_loss: 0.4774 - val_accuracy: 0.8037\n",
            "Epoch 6/8\n",
            "10712/10712 [==============================] - 208s 19ms/step - loss: 0.2351 - accuracy: 0.8992 - val_loss: 0.4872 - val_accuracy: 0.8057\n",
            "Epoch 7/8\n",
            "10712/10712 [==============================] - 198s 18ms/step - loss: 0.2226 - accuracy: 0.9048 - val_loss: 0.5416 - val_accuracy: 0.8028\n",
            "Epoch 8/8\n",
            "10712/10712 [==============================] - 188s 18ms/step - loss: 0.2298 - accuracy: 0.9028 - val_loss: 0.5294 - val_accuracy: 0.8097\n"
          ]
        },
        {
          "output_type": "execute_result",
          "data": {
            "text/plain": [
              "<keras.src.callbacks.History at 0x7f3c12a658d0>"
            ]
          },
          "metadata": {},
          "execution_count": 32
        }
      ],
      "source": [
        "# indices not in range because the vocab size is not equal to total token\n",
        "# using big batch size for faster convergence with lower epochs\n",
        "model.fit(X_train, Y_train, epochs=8, batch_size=128, validation_split=0.2)"
      ]
    },
    {
      "cell_type": "markdown",
      "metadata": {
        "id": "8-t1ajo-6SHn"
      },
      "source": [
        "# MODEL EVAL"
      ]
    },
    {
      "cell_type": "code",
      "source": [
        "X_test = [p.sub('', x) for x in X_test]\n",
        "X_test = pd.Series(X_test, name='Text')\n",
        "\n",
        "X_test = X_test.str.lower()\n",
        "X_test = tokenizer.texts_to_sequences(X_test)\n",
        "X_test = keras.utils.pad_sequences(X_test, maxlen=maxlen)"
      ],
      "metadata": {
        "id": "qBqzGGG7ADQv"
      },
      "execution_count": null,
      "outputs": []
    },
    {
      "cell_type": "code",
      "source": [
        "Y_pred = model.predict(X_test)\n",
        "Y_pred = np.argmax(Y_pred, axis=1)\n",
        "cm = confusion_matrix(Y_test, Y_pred)\n",
        "disp = ConfusionMatrixDisplay(confusion_matrix=cm, display_labels=[\"Negative\", \"Positive\", \"Neutral\"])#\n",
        "disp.plot(cmap='GnBu')\n",
        "plt.figure(figsize=(20, 20))\n",
        "plt.show()"
      ],
      "metadata": {
        "colab": {
          "base_uri": "https://localhost:8080/",
          "height": 489
        },
        "id": "9xRUh-VHKWnO",
        "outputId": "44e242e1-1412-4d67-ef86-3e26b36e7fd2"
      },
      "execution_count": null,
      "outputs": [
        {
          "output_type": "stream",
          "name": "stdout",
          "text": [
            "6695/6695 [==============================] - 31s 5ms/step\n"
          ]
        },
        {
          "output_type": "display_data",
          "data": {
            "text/plain": [
              "<Figure size 640x480 with 2 Axes>"
            ],
            "image/png": "[encoded data removed]"
          },
          "metadata": {}
        },
        {
          "output_type": "display_data",
          "data": {
            "text/plain": [
              "<Figure size 2000x2000 with 0 Axes>"
            ]
          },
          "metadata": {}
        }
      ]
    },
    {
      "cell_type": "code",
      "source": [
        "# classification report\n",
        "\n",
        "report = classification_report(Y_test, Y_pred)\n",
        "print(report)"
      ],
      "metadata": {
        "id": "Ptk5cy_LYBcW",
        "colab": {
          "base_uri": "https://localhost:8080/"
        },
        "outputId": "f4b34980-f5bd-45a6-8394-10c31cc0b93e"
      },
      "execution_count": null,
      "outputs": [
        {
          "output_type": "stream",
          "name": "stdout",
          "text": [
            "              precision    recall  f1-score   support\n",
            "\n",
            "         0.0       0.81      0.81      0.81    106939\n",
            "         1.0       0.81      0.81      0.81    106201\n",
            "         2.0       0.64      0.76      0.70      1093\n",
            "\n",
            "    accuracy                           0.81    214233\n",
            "   macro avg       0.75      0.79      0.77    214233\n",
            "weighted avg       0.81      0.81      0.81    214233\n",
            "\n"
          ]
        }
      ]
    },
    {
      "cell_type": "markdown",
      "metadata": {
        "id": "MKYIMknf3aoW"
      },
      "source": [
        "# INFERENCE"
      ]
    },
    {
      "cell_type": "code",
      "execution_count": null,
      "metadata": {
        "colab": {
          "base_uri": "https://localhost:8080/",
          "height": 37
        },
        "id": "5E3WzBsU6966",
        "outputId": "6021122a-35fb-4c2e-9b00-da5fcf965634"
      },
      "outputs": [
        {
          "output_type": "execute_result",
          "data": {
            "text/plain": [
              "'maybe it is a silent thank you hi jen you must know my friend'"
            ],
            "application/vnd.google.colaboratory.intrinsic+json": {
              "type": "string"
            }
          },
          "metadata": {},
          "execution_count": 53
        }
      ],
      "source": [
        "X_val.iloc[10]"
      ]
    },
    {
      "cell_type": "code",
      "execution_count": null,
      "metadata": {
        "id": "NzvYdcF1ORnn"
      },
      "outputs": [],
      "source": [
        "test_sample = '''maybe it is a silent thank you hi jen you must know my friend.'''\n",
        "\n",
        "test_sample = p.sub('', test_sample)\n",
        "test_sample = test_sample.lower()"
      ]
    },
    {
      "cell_type": "code",
      "execution_count": null,
      "metadata": {
        "id": "c_E-N7f681kw"
      },
      "outputs": [],
      "source": [
        "test_sample = tokenizer.texts_to_sequences([test_sample])\n",
        "test_sample = keras.utils.pad_sequences(test_sample, maxlen=50)"
      ]
    },
    {
      "cell_type": "code",
      "execution_count": null,
      "metadata": {
        "colab": {
          "base_uri": "https://localhost:8080/"
        },
        "id": "ZJHnLKnHQgTm",
        "outputId": "2befb1fa-ddb5-4492-ef4a-7d106b2839e2"
      },
      "outputs": [
        {
          "output_type": "stream",
          "name": "stdout",
          "text": [
            "1/1 [==============================] - 0s 48ms/step\n",
            "Positive\n"
          ]
        }
      ],
      "source": [
        "class_label = ''\n",
        "class_prob = np.argmax(model.predict(test_sample), axis=-1)\n",
        "if class_prob == 0:\n",
        "  print('Negative')\n",
        "elif class_prob == 1:\n",
        "  print('Positive')\n",
        "elif class_prob == 2:\n",
        "  print('Neutral')"
      ]
    },
    {
      "cell_type": "markdown",
      "metadata": {
        "id": "AgZFWu_83ksb"
      },
      "source": [
        "# MODEL SAVING\n"
      ]
    },
    {
      "cell_type": "code",
      "execution_count": null,
      "metadata": {
        "id": "w6EjtMZrXR8w"
      },
      "outputs": [],
      "source": [
        "model.save('transformer_model.keras')"
      ]
    }
  ],
  "metadata": {
    "colab": {
      "collapsed_sections": [
        "6GaBjYPzElxt"
      ],
      "provenance": [],
      "gpuType": "T4"
    },
    "kernelspec": {
      "display_name": "Python 3",
      "name": "python3"
    },
    "language_info": {
      "name": "python"
    },
    "accelerator": "GPU"
  },
  "nbformat": 4,
  "nbformat_minor": 0
}